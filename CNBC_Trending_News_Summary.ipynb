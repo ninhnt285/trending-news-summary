{
 "cells": [
  {
   "cell_type": "markdown",
   "metadata": {
    "id": "Y-8MRJMELgjy"
   },
   "source": [
    "## Trending News Summary\n",
    "\n",
    "In this small project, we will scrape 50 latest trending articles from [CNBC](https://www.cnbc.com/#Homepage-TrendingNowBreaker-19), group them into some topics (E.g.: 10), then summarize most important information from each topic using ChatGPT."
   ]
  },
  {
   "cell_type": "markdown",
   "metadata": {
    "id": "VXiCrZmcN1vQ",
    "jp-MarkdownHeadingCollapsed": true
   },
   "source": [
    "### Install and import libraries"
   ]
  },
  {
   "cell_type": "code",
   "execution_count": 1,
   "metadata": {
    "colab": {
     "base_uri": "https://localhost:8080/"
    },
    "id": "6YDJBrszOLBd",
    "outputId": "a75f1563-c893-4a06-def6-d635af5b53b1"
   },
   "outputs": [
    {
     "name": "stdout",
     "output_type": "stream",
     "text": [
      "Note: you may need to restart the kernel to use updated packages.\n"
     ]
    }
   ],
   "source": [
    "pip install -q openai ycnbc torch python-dotenv numpy==1.26.4"
   ]
  },
  {
   "cell_type": "code",
   "execution_count": 2,
   "metadata": {
    "id": "p6VQftCgNg6D"
   },
   "outputs": [],
   "source": [
    "import os\n",
    "import requests\n",
    "import json\n",
    "import torch\n",
    "from openai import OpenAI\n",
    "from dotenv import load_dotenv\n",
    "\n",
    "import ycnbc\n",
    "from ycnbc.news.news_utils import CNBCNewsUtils"
   ]
  },
  {
   "cell_type": "code",
   "execution_count": 3,
   "metadata": {
    "id": "lKz4XLnKUR5t"
   },
   "outputs": [],
   "source": [
    "# from IPython.display import HTML, display\n",
    "\n",
    "# def set_css():\n",
    "#   display(HTML('''\n",
    "#   <style>\n",
    "#     pre {\n",
    "#         white-space: pre-wrap;\n",
    "#     }\n",
    "#   </style>\n",
    "#   '''))\n",
    "# get_ipython().events.register('pre_run_cell', set_css)"
   ]
  },
  {
   "cell_type": "code",
   "execution_count": 4,
   "metadata": {},
   "outputs": [],
   "source": [
    "try:\n",
    "    load_dotenv()\n",
    "    OPENAI_KEY = os.getenv(\"OPENAI_KEY\")\n",
    "    RAPID_API_KEY = os.getenv(\"RAPID_API_KEY\")\n",
    "except e:\n",
    "    OPENAI_KEY = \"your_openai_key\"\n",
    "    RAPID_API_KEY = \"your_rapidAPI_key\""
   ]
  },
  {
   "cell_type": "markdown",
   "metadata": {
    "id": "SFklBLl2OQ99",
    "jp-MarkdownHeadingCollapsed": true
   },
   "source": [
    "### Scaping news from CNBC\n",
    "\n",
    "In this step, we will get 50 latest trending news from CNBC."
   ]
  },
  {
   "cell_type": "code",
   "execution_count": 5,
   "metadata": {
    "colab": {
     "base_uri": "https://localhost:8080/",
     "height": 17
    },
    "id": "t_4SkHT_ONgh",
    "outputId": "581d40f9-4087-4346-d70c-95b7e4673b64"
   },
   "outputs": [],
   "source": [
    "def get_cnbc_content(link):\n",
    "    newUtil = CNBCNewsUtils()\n",
    "    try:\n",
    "        # Get HTML content from an article url\n",
    "        tree = newUtil._fetch_page(link.replace(\"https://www.cnbc.com/\", \"\"))\n",
    "        if \"error\" in tree:\n",
    "            return tree\n",
    "        # Get the main content by ID\n",
    "        artical_content = tree.xpath(\"//div[contains(@data-module, 'ArticleBody') or contains(@data-module, 'featuredContent')]\")\n",
    "        if not artical_content:\n",
    "            return None\n",
    "        # Export only text from the HTML\n",
    "        content = artical_content[0].text_content()\n",
    "        return str(content)\n",
    "    except Exception as e:\n",
    "        return None\n",
    "\n",
    "\n",
    "def get_trending_articles(count=50):\n",
    "    url = \"https://cnbc.p.rapidapi.com/news/v2/list-trending\"\n",
    "    querystring = {\"tag\" : \"Articles\", \"count\" : str(count)}\n",
    "    # API Key for rapidapi\n",
    "    headers = {\n",
    "        \"x-rapidapi-key\": RAPID_API_KEY,\n",
    "        \"x-rapidapi-host\": \"cnbc.p.rapidapi.com\"\n",
    "    }\n",
    "    # Using RapidAPI to get trending news from CNBC\n",
    "    response = requests.get(url, headers=headers, params=querystring)\n",
    "    json_data = response.json()\n",
    "    data = []\n",
    "    for element in json_data[\"data\"][\"mostPopularEntries\"][\"assets\"]:\n",
    "        # Getting all content from an url\n",
    "        content = get_cnbc_content(element[\"url\"]),\n",
    "        if content is not None:\n",
    "            data.append({\n",
    "                \"title\": element[\"headline\"],\n",
    "                \"description\": element[\"description\"],\n",
    "                'link': element[\"url\"],\n",
    "                'content': content[0],\n",
    "            })\n",
    "\n",
    "    return data"
   ]
  },
  {
   "cell_type": "markdown",
   "metadata": {
    "id": "KtPCRE76Z8eL",
    "jp-MarkdownHeadingCollapsed": true
   },
   "source": [
    "### Text embedding with ChatGPT\n",
    "Using ChatGPT API to get embedding vector of each article. By default, ChatGPT will return a 1536-dimension vector."
   ]
  },
  {
   "cell_type": "code",
   "execution_count": 6,
   "metadata": {
    "colab": {
     "base_uri": "https://localhost:8080/",
     "height": 37
    },
    "id": "28RnpqZMaDHh",
    "outputId": "4ed087fc-6521-4938-a209-9f455e3ff0cb"
   },
   "outputs": [],
   "source": [
    "def get_embedding(data, client):\n",
    "    new_data = []\n",
    "    for i in range(len(data)):\n",
    "        try:\n",
    "            response = client.embeddings.create(\n",
    "                input=data[i]['content'],\n",
    "                model=\"text-embedding-3-small\"\n",
    "            )\n",
    "\n",
    "            data[i][\"embedding\"] = response.data[0].embedding\n",
    "            new_data.append(data[i])\n",
    "        except:\n",
    "            pass\n",
    "            # print(i, data[i])\n",
    "    return new_data"
   ]
  },
  {
   "cell_type": "markdown",
   "metadata": {
    "id": "lH5VApA2fFOs",
    "jp-MarkdownHeadingCollapsed": true
   },
   "source": [
    "### Clustering all news into sub-topics\n",
    "\n",
    "Using a simple k-means algorithm to cluster data."
   ]
  },
  {
   "cell_type": "code",
   "execution_count": 7,
   "metadata": {
    "colab": {
     "base_uri": "https://localhost:8080/",
     "height": 37
    },
    "id": "yfcQ8rkdfLJU",
    "outputId": "1eeb5214-2871-42d8-dc96-46c2d875c269"
   },
   "outputs": [],
   "source": [
    "def clustering_data(data, topic_number=10):\n",
    "    embeddings = torch.FloatTensor(list(map(lambda x: x[\"embedding\"], data)))\n",
    "    centroids = embeddings[torch.randperm(embeddings.size(0))[:topic_number]]\n",
    "    # centroids = embeddings[:topic_number]\n",
    "    num_iterations = 500\n",
    "\n",
    "    for _ in range(num_iterations):\n",
    "        # Calculate distances from data points to centroids\n",
    "        distances = torch.cdist(embeddings, centroids)\n",
    "\n",
    "        # Assign each data point to the closest centroid\n",
    "        _, labels = torch.min(distances, dim=1)\n",
    "\n",
    "        # Update centroids by taking the mean of data points assigned to each centroid\n",
    "        for i in range(topic_number):\n",
    "            if torch.sum(labels == i) > 0:\n",
    "                centroids[i] = torch.mean(embeddings[labels == i], dim=0)\n",
    "\n",
    "    # Assign topic ID for each news\n",
    "    for i in range(len(data)):\n",
    "        data[i][\"topic_id\"] = labels[i]\n",
    "\n",
    "    # Group data into sub-topics\n",
    "    topics = []\n",
    "    for i in range(topic_number):\n",
    "        topic_data = list(filter(lambda x: x[\"topic_id\"] == i, data))\n",
    "\n",
    "        if len(topic_data) > 0:\n",
    "            full_content = \" \".join(list(map(lambda x: x[\"content\"], topic_data)))\n",
    "            links = list(map(lambda x: x[\"link\"], topic_data))\n",
    "            topics.append({\n",
    "                \"data\": topic_data,\n",
    "                \"links\": links,\n",
    "                \"full_content\": full_content\n",
    "            })\n",
    "\n",
    "    return topics"
   ]
  },
  {
   "cell_type": "markdown",
   "metadata": {
    "id": "4XDRA83dpN4u",
    "jp-MarkdownHeadingCollapsed": true
   },
   "source": [
    "### Summarize content of each topic (Using ChatGPT)"
   ]
  },
  {
   "cell_type": "code",
   "execution_count": 8,
   "metadata": {
    "colab": {
     "base_uri": "https://localhost:8080/",
     "height": 37
    },
    "id": "RH-kSJTGnKUO",
    "outputId": "e5209351-375b-44bf-d07c-4e66a39a0451"
   },
   "outputs": [],
   "source": [
    "def summary_topics(topics, client):\n",
    "    for i, topic in enumerate(topics):\n",
    "        full_content = topic[\"full_content\"]\n",
    "\n",
    "        response = client.chat.completions.create(\n",
    "            # Maybe gpt-4-*-preview works better for this task, but the cost is too high\n",
    "            model=\"gpt-4o-mini\",\n",
    "            messages=[\n",
    "                {\n",
    "                    \"role\": \"system\",\n",
    "                    \"content\": \"In this task, you need to read the content of some newspapers in a same topic, then summary the most important information in that topic.\",\n",
    "                },\n",
    "                {\n",
    "                    \"role\": \"user\",\n",
    "                    \"content\": full_content\n",
    "                },\n",
    "                {\n",
    "                    \"role\": \"user\",\n",
    "                    \"content\": \"Write a summary about all important points of these news in 100 words.\"\n",
    "                }]\n",
    "        )\n",
    "        topics[i][\"summary\"] = response.choices[0].message.content\n",
    "    return topics"
   ]
  },
  {
   "cell_type": "markdown",
   "metadata": {
    "id": "NFG10liBN9ei"
   },
   "source": [
    "### Main Function"
   ]
  },
  {
   "cell_type": "code",
   "execution_count": 9,
   "metadata": {
    "colab": {
     "base_uri": "https://localhost:8080/",
     "height": 17
    },
    "id": "hHT8KoUh4N9D",
    "outputId": "ca869d45-0b9a-4257-e66a-0d53a35c86b9"
   },
   "outputs": [],
   "source": [
    "# Global variable\n",
    "client = OpenAI(api_key=OPENAI_KEY)\n",
    "topic_number = 7\n",
    "\n",
    "# Get trending articles from CNBC\n",
    "trending_news = get_trending_articles(count=50)\n",
    "\n",
    "# Get embedding vector from each article content\n",
    "data = get_embedding(trending_news, client)\n",
    "\n",
    "# Using K-means clustering algorithm to group all articles into sub-topics\n",
    "topics = clustering_data(data, topic_number = topic_number)"
   ]
  },
  {
   "cell_type": "code",
   "execution_count": 10,
   "metadata": {
    "colab": {
     "base_uri": "https://localhost:8080/",
     "height": 17
    },
    "id": "YAEWI9jEQDa4",
    "outputId": "b61b7764-2f9e-472b-9400-0ff8de24eb64"
   },
   "outputs": [],
   "source": [
    "# Summary most important information in each topic\n",
    "topics = summary_topics(topics, client)"
   ]
  },
  {
   "cell_type": "markdown",
   "metadata": {
    "id": "N1vgbXMiRAK8"
   },
   "source": [
    "### Result:\n",
    "Print all topics with the summary and links:"
   ]
  },
  {
   "cell_type": "code",
   "execution_count": 11,
   "metadata": {
    "colab": {
     "base_uri": "https://localhost:8080/",
     "height": 990
    },
    "id": "-bBBQF1mRJWD",
    "outputId": "678fab2e-0f33-4108-fbb0-61a61d6b8cd2"
   },
   "outputs": [
    {
     "name": "stdout",
     "output_type": "stream",
     "text": [
      "Topic 1:\n",
      "Walgreens reported fiscal fourth-quarter sales of $37.55 billion, exceeding expectations, while adjusting profit was 39 cents per share. To address financial challenges, the company plans to close 1,200 stores, including 500 by fiscal 2025, aiming for a healthier store base. Amid a net loss of $3 billion attributed to opioid settlements, Walgreens surpassed its $1 billion cost-cutting target for 2024. Despite challenges in pharmacy margins and a soft retail environment, growth occurred in its U.S. healthcare and international segments. The company anticipates adjusted earnings of $1.40 to $1.80 per share for fiscal 2025, with revenue projected between $147 billion and $151 billion.\n",
      "['https://www.cnbc.com/2024/10/15/walgreens-wba-earnings-q4-2024.html', 'https://www.cnbc.com/2024/10/15/goldman-sachs-gs-earnings-q3-2024.html']\n",
      "\n",
      "Topic 2:\n",
      "A recent analysis by GOBankingRates reveals significant variations in retirement expenses across U.S. states, with Hawaii needing the highest average annual cost of $129,296 compared to West Virginia at $58,190. The study, based on basic living costs plus a 20% buffer, highlights that 20 states allow retirement on $65,000 or less, primarily in rural areas. Meanwhile, former NFL star Tom Brady has acquired a minority stake in the Las Vegas Raiders, worth approximately $220 million. Additionally, Philip Esformes was arrested on domestic violence charges after receiving clemency from Trump in 2020 for healthcare fraud.\n",
      "['https://www.cnbc.com/2024/10/15/states-where-you-can-retire-comfortably-under-65000-dollars-a-year.html', 'https://www.cnbc.com/2024/10/15/tom-brady-to-be-part-owner-of-nfls-las-vegas-raiders.html', 'https://www.cnbc.com/2024/10/15/trump-clemency-recipient-philip-esformes-arrested-florida.html', 'https://www.cnbc.com/2024/10/15/more-colleges-set-to-close-in-2025-while-ivy-plus-schools-thrive.html', 'https://www.cnbc.com/2024/07/13/10-states-worst-quality-of-life-america.html', 'https://www.cnbc.com/2024/10/12/elon-musk-could-become-worlds-first-trillionaire.html']\n",
      "\n",
      "Topic 3:\n",
      "Bank of America reported third-quarter earnings of 81 cents per share, surpassing analyst estimates, despite a 12% decline in net income due to higher loan loss provisions. Revenue rose slightly to $25.49 billion, driven by strong trading results, particularly in fixed income and equities. Net interest income fell 2.9% but showed signs of recovery. Meanwhile, Wells Fargo's CEO noted consumer resilience and spending growth, as the bank reported better-than-expected earnings, despite a decline in net interest income. Both banks highlighted the benefits of diversified operations amidst fluctuating interest rates and supportive consumer activity.\n",
      "['https://www.cnbc.com/2024/10/15/bank-of-america-bac-earnings-q3-2024.html', 'https://www.cnbc.com/2024/10/15/wells-fargo-ceo-calls-consumers-extremely-resilient.html']\n",
      "\n",
      "Topic 4:\n",
      "Donald Trump's media shares experienced a significant decline, dropping nearly 10% amid volatile trading following a surge linked to his presidential campaign's developments. Meanwhile, Vice President Kamala Harris proposed an \"Opportunity Agenda\" to support Black entrepreneurs, aiming to secure votes ahead of a tight election. In the tech sector, ASML's disappointing financial forecasts impacted semiconductor stocks, causing a broader market pullback. Amidst fluctuating investors' sentiment, United Airlines announced a $1.5 billion share buyback, buoyed by strong summer earnings, while Apple unveiled a new iPad mini featuring advanced technology. The evolving retail landscape highlights a shift towards off-price retailers like TJX.\n",
      "['https://www.cnbc.com/2024/10/15/trump-media-shares-halted-after-sudden-djt-stock-plunge.html', 'https://www.cnbc.com/2024/10/16/chinas-alibaba-claims-ai-translation-tool-beats-google-chatgpt.html', 'https://www.cnbc.com/2024/10/15/chip-firm-asml-shares-fall-12percent-after-earnings-released-earlier-than-expected.html', 'https://www.cnbc.com/2024/10/15/trumps-coin-sale-misses-early-targets-as-crypto-website-crashes.html', 'https://www.cnbc.com/2024/10/15/united-airlines-ual-3q-2024-earnings.html', 'https://www.cnbc.com/2024/10/16/cnbc-daily-open-bullish-sentiment-and-broadening-rally-for-markets.html', 'https://www.cnbc.com/2024/10/14/harris-forgivable-loans-legal-marijuana-trump-black-voters.html', 'https://www.cnbc.com/2024/10/15/wednesdays-big-stock-stories-whats-likely-to-move-the-market.html', 'https://www.cnbc.com/2024/10/14/stock-market-today-live-updates.html', 'https://www.cnbc.com/2024/10/15/american-consumers-are-increasingly-underwater-on-their-car-loans.html', 'https://www.cnbc.com/2024/10/16/citi-names-underappreciated-ai-stock-as-a-top-pick-giving-it-25percent-upside.html', 'https://www.cnbc.com/2024/10/15/stock-market-today-live-updates.html', 'https://www.cnbc.com/2024/10/14/jefferies-says-buy-this-little-known-injectable-drug-delivery-maker-with-more-than-30percent-upside.html', 'https://www.cnbc.com/2024/10/15/cramers-lightning-round-im-going-to-stay-away-from-mobileye-global.html', 'https://www.cnbc.com/2024/10/15/uk-eli-lilly-to-trial-use-of-weight-loss-drugs-to-combat-unemployment.html', 'https://www.cnbc.com/2024/10/15/tax-extension-deadline.html', 'https://www.cnbc.com/2024/10/14/warren-buffetts-berkshire-hathaway-hikes-siriusxm-stake-to-32percent.html', 'https://www.cnbc.com/2024/10/15/boeing-equity-debt-raise.html', 'https://www.cnbc.com/2024/10/15/trump-music-health-records-harris-town-hall.html', 'https://www.cnbc.com/2024/10/15/apple-new-ipad-mini-tablet.html', 'https://www.cnbc.com/2024/10/15/cramer-on-why-investors-should-wait-out-sloppy-post-earnings-trading.html', 'https://www.cnbc.com/2024/10/15/why-big-brands-love-tj-maxx.html']\n",
      "\n",
      "Topic 5:\n",
      "To live a long, healthy life, experts emphasize five key habits: adopting a Mediterranean-like diet focused on plant-based foods, engaging in regular physical activity, fostering spiritual or life philosophy beliefs, maintaining positive relationships for social fitness, and prioritizing a sense of purpose through lifelong learning. Additionally, in Japan, the rising trend of purchasing and renovating abandoned houses, known as \"akiyas,\" is being pursued by individuals like Anton Wormann, who sees it as both an opportunity and a passion project. Meanwhile, Barcelona faces protests against tourism, pushing for better management of visitor flows and conditions amid rising tourist numbers.\n",
      "['https://www.cnbc.com/2024/10/15/longevity-experts-5-lifestyle-habits-that-can-help-you-live-to-100.html', 'https://www.cnbc.com/2024/10/16/japans-akiya-or-abandoned-house-turned-into-luxury-airbnb-.html', 'https://www.cnbc.com/2024/10/15/want-to-be-respected-at-work-use-this-framework.html', 'https://www.cnbc.com/2024/09/29/its-time-to-take-warnings-about-using-airport-public-wi-fi-seriously.html', 'https://www.cnbc.com/2024/10/15/dating-experts-bars-are-the-worst-place-to-find-loveand-more-tips.html', 'https://www.cnbc.com/2024/10/03/how-to-raise-mentally-strong-kids.html', 'https://www.cnbc.com/2024/10/07/the-job-interview-question-that-stumped-this-hr-expertnow-its-her-favorite-to-ask.html', 'https://www.cnbc.com/2024/10/15/33-year-old-makes-an-average-of-20910-per-month-as-a-voiceover-artist-.html', 'https://www.cnbc.com/2024/10/13/why-a-content-creator-earning-six-figures-got-a-corporate-job-too.html', 'https://www.cnbc.com/2024/10/12/raising-canes-todd-graves-stupid-strategy-nearly-cost-me-my-business.html', 'https://www.cnbc.com/2024/10/14/after-anti-tourism-protests-spain-receives-record-number-of-travelers.html', 'https://www.cnbc.com/2024/10/15/a-simple-linkedin-strategy-helped-this-25-year-old-land-3-final-round-interviews-in-weeks.html']\n",
      "\n",
      "Topic 6:\n",
      "As mortgage rates hover around 6%, homebuyers are seeking alternatives like assumable mortgages, which allow them to inherit existing loans at potentially lower rates of 2% or 3%. Interest in this option surged, with Google searches for \"assumable mortgage\" rising notably in May. Despite their historical significance, assumable mortgages have become uncommon due to regulatory changes. Currently, VA, FHA, and USDA loans remain assumable, with FHA-backed assumptions increasing by 59% in 2023 compared to 2021, while the VA saw a massive 713% rise. However, actual assumption transactions are still lower than available options.\n",
      "['https://www.cnbc.com/2024/10/15/rare-mortgage-type-lower-rates.html']\n",
      "\n",
      "Topic 7:\n",
      "Asian markets faced declines, particularly Japan's Nikkei, following Wall Street's downturn. Investors are keen on potential Chinese real estate stimulus, with a briefing set for Thursday. Hong Kong's Chief Executive John Lee is expected to address economic recovery in his annual policy speech. New Zealand's CPI rose as expected, while South Korea's unemployment increased slightly. Geopolitical tensions eased as Israel clarified it wouldn't strike Iranian oil facilities, leading to a slight rise in oil prices. However, OPEC and the International Energy Agency noted weakening global oil demand, anticipating a significant surplus in 2024.\n",
      "['https://www.cnbc.com/2024/10/16/asia-markets-live-updates-china-housing-briefing-south-korea-unemployment.html', 'https://www.cnbc.com/2024/10/15/crude-oil-prices-today.html']\n",
      "\n"
     ]
    }
   ],
   "source": [
    "for index, topic in enumerate(topics):\n",
    "    print(f\"Topic {index+1}:\")\n",
    "    print(topic[\"summary\"])\n",
    "    print(topic[\"links\"])\n",
    "    print()"
   ]
  },
  {
   "cell_type": "code",
   "execution_count": null,
   "metadata": {},
   "outputs": [],
   "source": []
  }
 ],
 "metadata": {
  "colab": {
   "collapsed_sections": [
    "VXiCrZmcN1vQ",
    "SFklBLl2OQ99",
    "KtPCRE76Z8eL",
    "lH5VApA2fFOs"
   ],
   "provenance": []
  },
  "kernelspec": {
   "display_name": "Python 3 (ipykernel)",
   "language": "python",
   "name": "python3"
  },
  "language_info": {
   "codemirror_mode": {
    "name": "ipython",
    "version": 3
   },
   "file_extension": ".py",
   "mimetype": "text/x-python",
   "name": "python",
   "nbconvert_exporter": "python",
   "pygments_lexer": "ipython3",
   "version": "3.12.7"
  }
 },
 "nbformat": 4,
 "nbformat_minor": 4
}
